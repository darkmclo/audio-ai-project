{
 "cells": [
  {
   "cell_type": "code",
   "execution_count": 6,
   "id": "b0478654",
   "metadata": {},
   "outputs": [],
   "source": [
    "import numpy as np\n",
    "import matplotlib.pyplot as plt\n",
    "import subprocess\n",
    "import speech_recognition as sr"
   ]
  },
  {
   "cell_type": "code",
   "execution_count": 7,
   "id": "bc798169",
   "metadata": {},
   "outputs": [],
   "source": [
    "r = sr.Recognizer()"
   ]
  },
  {
   "cell_type": "code",
   "execution_count": 8,
   "id": "6893159a",
   "metadata": {},
   "outputs": [],
   "source": [
    "audio_file = sr.AudioFile('vocals-example.wav')"
   ]
  },
  {
   "cell_type": "code",
   "execution_count": 9,
   "id": "33d70554",
   "metadata": {},
   "outputs": [
    {
     "data": {
      "text/plain": [
       "'\\nwith audio_file as source: \\n    r.adjust_for_ambient_noise(source) \\n    audio = r.record(source)\\n    \\nresult = r.recognize_google(audio)\\n'"
      ]
     },
     "execution_count": 9,
     "metadata": {},
     "output_type": "execute_result"
    }
   ],
   "source": [
    "\"\"\"\n",
    "with audio_file as source: \n",
    "    r.adjust_for_ambient_noise(source) \n",
    "    audio = r.record(source)\n",
    "    \n",
    "result = r.recognize_google(audio)\n",
    "\"\"\""
   ]
  },
  {
   "cell_type": "code",
   "execution_count": 17,
   "id": "b6e0ebb7",
   "metadata": {},
   "outputs": [
    {
     "name": "stdout",
     "output_type": "stream",
     "text": [
      "will be rewarded when we come from\n"
     ]
    }
   ],
   "source": [
    "with audio_file as source:\n",
    "    #print(\"Start talking: \")\n",
    "    #r.adjust_for_ambient_noise(source)\n",
    "    audio = r.record(source)\n",
    "    #print(\"Stop talking.\")\n",
    "\n",
    "try:\n",
    "    text = r.recognize_google(audio, language='en-US') #, show_all=True\n",
    "    print (text)\n",
    "except Exception as e:\n",
    "    #print(\"I am here\")\n",
    "    print (e)"
   ]
  },
  {
   "cell_type": "code",
   "execution_count": null,
   "id": "37d98247",
   "metadata": {},
   "outputs": [],
   "source": []
  },
  {
   "cell_type": "code",
   "execution_count": null,
   "id": "715114b6",
   "metadata": {},
   "outputs": [],
   "source": []
  },
  {
   "cell_type": "code",
   "execution_count": null,
   "id": "cfaf7a0d",
   "metadata": {},
   "outputs": [],
   "source": []
  }
 ],
 "metadata": {
  "kernelspec": {
   "display_name": "Python 3 (ipykernel)",
   "language": "python",
   "name": "python3"
  },
  "language_info": {
   "codemirror_mode": {
    "name": "ipython",
    "version": 3
   },
   "file_extension": ".py",
   "mimetype": "text/x-python",
   "name": "python",
   "nbconvert_exporter": "python",
   "pygments_lexer": "ipython3",
   "version": "3.8.10"
  }
 },
 "nbformat": 4,
 "nbformat_minor": 5
}
