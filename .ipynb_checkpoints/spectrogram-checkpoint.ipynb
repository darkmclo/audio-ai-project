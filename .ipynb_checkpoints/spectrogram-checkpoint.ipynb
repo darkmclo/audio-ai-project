{
 "cells": [
  {
   "cell_type": "code",
   "execution_count": null,
   "id": "4bd92ed5",
   "metadata": {},
   "outputs": [],
   "source": [
    "import librosa\n",
    "import librosa.display\n",
    "\n",
    "y, sr = librosa.load('vocals.wav', mono=False)\n",
    "fig, ax = plt.subplots(figsize=(15, 3))\n",
    "\n",
    "img = librosa.display.waveshow(y, sr=sr, ax=ax)\n",
    "ax.set(title='Envelope view, stereo')\n",
    "ax.label_outer()\n",
    "plt.show()"
   ]
  },
  {
   "cell_type": "code",
   "execution_count": null,
   "id": "f7929643",
   "metadata": {},
   "outputs": [],
   "source": [
    "# Load audio file to Librosa\n",
    "y, sr = librosa.load('vocals.wav')\n",
    "\n",
    "# Converts data into short term Fourier transform. \n",
    "# STFT converts signals such that we can know the amplitude of the given frequency at a given time\n",
    "D = librosa.amplitude_to_db(np.abs(librosa.stft(y)), ref=np.max)\n",
    "\n",
    "# Display spectogram\n",
    "fig, ax = plt.subplots(figsize=(15, 3))\n",
    "img = librosa.display.specshow(D, y_axis='log', x_axis='time', sr=sr)\n",
    "ax.set(title='Logarithmic-frequency power spectrogram')\n",
    "ax.label_outer()\n",
    "plt.colorbar()"
   ]
  }
 ],
 "metadata": {
  "kernelspec": {
   "display_name": "Python 3 (ipykernel)",
   "language": "python",
   "name": "python3"
  },
  "language_info": {
   "codemirror_mode": {
    "name": "ipython",
    "version": 3
   },
   "file_extension": ".py",
   "mimetype": "text/x-python",
   "name": "python",
   "nbconvert_exporter": "python",
   "pygments_lexer": "ipython3",
   "version": "3.8.10"
  }
 },
 "nbformat": 4,
 "nbformat_minor": 5
}
