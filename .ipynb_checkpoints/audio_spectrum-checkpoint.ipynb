{
 "cells": [
  {
   "cell_type": "code",
   "execution_count": 1,
   "id": "f66cae9b",
   "metadata": {},
   "outputs": [],
   "source": [
    "#Importar las librerias\n",
    "import numpy as np\n",
    "#import pandas as pd\n",
    "import matplotlib.pyplot as plt\n",
    "import ffmpeg as ff\n",
    "import subprocess\n",
    "from glob import glob as glob\n",
    "\n",
    "import librosa as lr"
   ]
  },
  {
   "cell_type": "code",
   "execution_count": 2,
   "id": "56023e81",
   "metadata": {},
   "outputs": [],
   "source": [
    "#Importar los archivos de audio desde el directorio especificado\n",
    "compat_format = 'flac'\n",
    "\n",
    "data_dir = '/home/chriss/spleeter/'\n",
    "audio_files = glob(data_dir + '*.'+str(compat_format)+'')\n",
    "\n",
    "#Soporte: mp3,wav,flac,aiff,wma.\n",
    "#command = subprocess.call(\"ffmpeg -i *.mp3 audio.wav\",shell=True)\n",
    "#print(command)\n"
   ]
  },
  {
   "cell_type": "code",
   "execution_count": 3,
   "id": "1383be23",
   "metadata": {},
   "outputs": [
    {
     "name": "stdout",
     "output_type": "stream",
     "text": [
      "CPU times: user 15 µs, sys: 2 µs, total: 17 µs\n",
      "Wall time: 25.3 µs\n"
     ]
    }
   ],
   "source": [
    "%%time\n",
    "\n",
    "#Realizar la lectura de todos los archivos de audio\n",
    "for file in range(0, len(audio_files), 1):\n",
    "    \n",
    "    #Leer el primer archivo de audio, crear el arreglo de tiempo (timeline)\n",
    "    audio, sfreq = lr.load(audio_files[file])\n",
    "    time = np.arange(0, len(audio)) / sfreq\n",
    "\n",
    "    #Graficar el audio sobre el tiempo\n",
    "    fig, ax = plt.subplots()\n",
    "    ax.plot(time, audio)\n",
    "    ax.set(xlabel=\"Tiempo\",ylabel=\"Amplitud\")\n",
    "    plt.show()\n",
    "    print(audio_files[file])"
   ]
  },
  {
   "cell_type": "code",
   "execution_count": 4,
   "id": "3bf48447",
   "metadata": {},
   "outputs": [],
   "source": [
    "#audio_files = glob(data_dir + '*.flac')\n",
    "# Leer el primer archivo de audio, crear el timeline (arreglo de tiempo)\n",
    "#audio, sfreq = lr.load(audio_files[0])\n",
    "#time = np.arange(0, len(audio)) / sfreq"
   ]
  },
  {
   "cell_type": "code",
   "execution_count": 5,
   "id": "acb1660f",
   "metadata": {},
   "outputs": [],
   "source": [
    "#fig, ax = plt.subplots()\n",
    "#ax.plot(time, audio)\n",
    "#ax.set(xlabel=\"Tiempo\",ylabel=\"Amplitud\")\n",
    "#plt.show()"
   ]
  },
  {
   "cell_type": "code",
   "execution_count": null,
   "id": "5100d316",
   "metadata": {},
   "outputs": [],
   "source": []
  },
  {
   "cell_type": "code",
   "execution_count": null,
   "id": "a43817f0",
   "metadata": {},
   "outputs": [],
   "source": []
  },
  {
   "cell_type": "code",
   "execution_count": null,
   "id": "5b826efa",
   "metadata": {},
   "outputs": [],
   "source": []
  }
 ],
 "metadata": {
  "kernelspec": {
   "display_name": "Python 3 (ipykernel)",
   "language": "python",
   "name": "python3"
  },
  "language_info": {
   "codemirror_mode": {
    "name": "ipython",
    "version": 3
   },
   "file_extension": ".py",
   "mimetype": "text/x-python",
   "name": "python",
   "nbconvert_exporter": "python",
   "pygments_lexer": "ipython3",
   "version": "3.8.10"
  }
 },
 "nbformat": 4,
 "nbformat_minor": 5
}
