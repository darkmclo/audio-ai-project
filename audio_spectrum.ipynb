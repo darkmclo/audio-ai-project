{
 "cells": [
  {
   "cell_type": "code",
   "execution_count": 29,
   "id": "f66cae9b",
   "metadata": {},
   "outputs": [],
   "source": [
    "#Importar las librerias\n",
    "import numpy as np\n",
    "#import pandas as pd\n",
    "import matplotlib.pyplot as plt\n",
    "import ffmpeg as ff\n",
    "import subprocess\n",
    "from glob import glob\n",
    "\n",
    "import librosa as lr"
   ]
  },
  {
   "cell_type": "code",
   "execution_count": 34,
   "id": "56023e81",
   "metadata": {},
   "outputs": [
    {
     "name": "stdout",
     "output_type": "stream",
     "text": [
      "1\n"
     ]
    },
    {
     "name": "stderr",
     "output_type": "stream",
     "text": [
      "ffmpeg version 4.2.7-0ubuntu0.1 Copyright (c) 2000-2022 the FFmpeg developers\n",
      "  built with gcc 9 (Ubuntu 9.4.0-1ubuntu1~20.04.1)\n",
      "  configuration: --prefix=/usr --extra-version=0ubuntu0.1 --toolchain=hardened --libdir=/usr/lib/x86_64-linux-gnu --incdir=/usr/include/x86_64-linux-gnu --arch=amd64 --enable-gpl --disable-stripping --enable-avresample --disable-filter=resample --enable-avisynth --enable-gnutls --enable-ladspa --enable-libaom --enable-libass --enable-libbluray --enable-libbs2b --enable-libcaca --enable-libcdio --enable-libcodec2 --enable-libflite --enable-libfontconfig --enable-libfreetype --enable-libfribidi --enable-libgme --enable-libgsm --enable-libjack --enable-libmp3lame --enable-libmysofa --enable-libopenjpeg --enable-libopenmpt --enable-libopus --enable-libpulse --enable-librsvg --enable-librubberband --enable-libshine --enable-libsnappy --enable-libsoxr --enable-libspeex --enable-libssh --enable-libtheora --enable-libtwolame --enable-libvidstab --enable-libvorbis --enable-libvpx --enable-libwavpack --enable-libwebp --enable-libx265 --enable-libxml2 --enable-libxvid --enable-libzmq --enable-libzvbi --enable-lv2 --enable-omx --enable-openal --enable-opencl --enable-opengl --enable-sdl2 --enable-libdc1394 --enable-libdrm --enable-libiec61883 --enable-nvenc --enable-chromaprint --enable-frei0r --enable-libx264 --enable-shared\n",
      "  WARNING: library configuration mismatch\n",
      "  avcodec     configuration: --prefix=/usr --extra-version=0ubuntu0.1 --toolchain=hardened --libdir=/usr/lib/x86_64-linux-gnu --incdir=/usr/include/x86_64-linux-gnu --arch=amd64 --enable-gpl --disable-stripping --enable-avresample --disable-filter=resample --enable-avisynth --enable-gnutls --enable-ladspa --enable-libaom --enable-libass --enable-libbluray --enable-libbs2b --enable-libcaca --enable-libcdio --enable-libcodec2 --enable-libflite --enable-libfontconfig --enable-libfreetype --enable-libfribidi --enable-libgme --enable-libgsm --enable-libjack --enable-libmp3lame --enable-libmysofa --enable-libopenjpeg --enable-libopenmpt --enable-libopus --enable-libpulse --enable-librsvg --enable-librubberband --enable-libshine --enable-libsnappy --enable-libsoxr --enable-libspeex --enable-libssh --enable-libtheora --enable-libtwolame --enable-libvidstab --enable-libvorbis --enable-libvpx --enable-libwavpack --enable-libwebp --enable-libx265 --enable-libxml2 --enable-libxvid --enable-libzmq --enable-libzvbi --enable-lv2 --enable-omx --enable-openal --enable-opencl --enable-opengl --enable-sdl2 --enable-libdc1394 --enable-libdrm --enable-libiec61883 --enable-nvenc --enable-chromaprint --enable-frei0r --enable-libx264 --enable-shared --enable-version3 --disable-doc --disable-programs --enable-libaribb24 --enable-liblensfun --enable-libopencore_amrnb --enable-libopencore_amrwb --enable-libtesseract --enable-libvo_amrwbenc\n",
      "  libavutil      56. 31.100 / 56. 31.100\n",
      "  libavcodec     58. 54.100 / 58. 54.100\n",
      "  libavformat    58. 29.100 / 58. 29.100\n",
      "  libavdevice    58.  8.100 / 58.  8.100\n",
      "  libavfilter     7. 57.100 /  7. 57.100\n",
      "  libavresample   4.  0.  0 /  4.  0.  0\n",
      "  libswscale      5.  5.100 /  5.  5.100\n",
      "  libswresample   3.  5.100 /  3.  5.100\n",
      "  libpostproc    55.  5.100 / 55.  5.100\n",
      "[mp3 @ 0x55999ffaf6c0] Estimating duration from bitrate, this may be inaccurate\n",
      "Input #0, mp3, from 'Ashes of Eden - Breaking Benjamin.mp3':\n",
      "  Metadata:\n",
      "    album           : Dark Before Dawn\n",
      "    artist          : Breaking Benjamin\n",
      "    album_artist    : Breaking Benjamin\n",
      "    TBPM            : 160\n",
      "    copyright       : © 2015 Hollywood Records, Inc.\n",
      "    TDAT            : 2015-06-23\n",
      "    genre           : Rock Alternativo\n",
      "    TSRC            : USHR11536300\n",
      "    TLEN            : 293\n",
      "    publisher       : Breaking Benjamin Music (ASCAP), Seven Peaks Music (ASCAP) o/b/o itself\n",
      "    title           : Ashes of Eden\n",
      "    track           : 10\n",
      "    lyrics-eng      : \"Ashes Of Eden\" \n",
      "                    :  \n",
      "                    : Will the faithful be rewarded \n",
      "                    : When we come to the end \n",
      "                    : Will I miss the final warning \n",
      "                    : From the lie that I have lived \n",
      "                    : Is there anybody calling \n",
      "                    : I can see the soul within \n",
      "                    : And I am not worthy \n",
      "                    : I am not worthy of this \n",
      "                    :  \n",
      "                    : Are you with me after all \n",
      "                    : Why can't I hear you \n",
      "                    : Are you with me through it all \n",
      "                    : Then why can't I feel you \n",
      "                    :  \n",
      "                    : Stay with me, don't let me go \n",
      "                    : Because there's nothing left at all \n",
      "                    : Stay with me, don't let me go \n",
      "                    : Until the Ashes of Eden fall \n",
      "                    :  \n",
      "                    : Will the darkness fall upon me \n",
      "                    : When the air is growing thin \n",
      "                    : Will the light begin to pull me \n",
      "                    : To its everlasting will \n",
      "                    : I can hear the voices haunting \n",
      "                    : There is nothing left to fear \n",
      "                    : And I am still calling \n",
      "                    : I am still calling to you \n",
      "                    :  \n",
      "                    : Are you with me after all \n",
      "                    : Why can't I hear you \n",
      "                    : Are you with me through it all \n",
      "                    : Then why can't I feel you \n",
      "                    :  \n",
      "                    : Stay with me, don't let me go \n",
      "                    : Because there's nothing left at all \n",
      "                    : Stay with me, don't let me go \n",
      "                    : Until the Ashes of Eden fall \n",
      "                    :  \n",
      "                    : Don't let go \n",
      "                    :  \n",
      "                    : Why can't I hear you \n",
      "                    : Stay with me, don't let me go \n",
      "                    : Because there's nothing left at all \n",
      "                    : Stay with me, don't let me go \n",
      "                    : Until the Ashes of Eden fall \n",
      "                    : Heaven above me, take my hand (Stay with me, don't let me go) \n",
      "                    : Shine until there's nothing left but you \n",
      "                    : Heaven above me, take my hand (Stay with me, don't let me go) \n",
      "                    : Shine until there's nothing left but you\n",
      "    date            : 2015\n",
      "  Duration: 00:04:53.73, start: 0.000000, bitrate: 136 kb/s\n",
      "    Stream #0:0: Audio: mp3, 44100 Hz, stereo, fltp, 128 kb/s\n",
      "    Stream #0:1: Video: mjpeg (Baseline), yuvj420p(pc, bt470bg/unknown/unknown), 630x630 [SAR 96:96 DAR 1:1], 90k tbr, 90k tbn, 90k tbc (attached pic)\n",
      "    Metadata:\n",
      "      comment         : Cover (front)\n",
      "File 'audio.wav' already exists. Overwrite ? [y/N] Not overwriting - exiting\n"
     ]
    }
   ],
   "source": [
    "#Importar los archivos de audio desde el directorio especificado\n",
    "data_dir = ''\n",
    "\n",
    "#Soporte: mp3,wav,flac,aiff,wma.\n",
    "#command = subprocess.call(\"ffmpeg -i *.mp3 audio.wav\",shell=True)\n",
    "#print(command)\n"
   ]
  },
  {
   "cell_type": "code",
   "execution_count": 32,
   "id": "3bf48447",
   "metadata": {},
   "outputs": [],
   "source": [
    "audio_files = glob(data_dir + '*.wav')\n",
    "# Leer el primer archivo de audio, crear el timeline (arreglo de tiempo)\n",
    "audio, sfreq = lr.load(audio_files[0])\n",
    "time = np.arange(0, len(audio)) / sfreq"
   ]
  },
  {
   "cell_type": "code",
   "execution_count": 33,
   "id": "acb1660f",
   "metadata": {},
   "outputs": [
    {
     "data": {
      "image/png": "[encoded data removed]",
      "text/plain": [
       "<Figure size 432x288 with 1 Axes>"
      ]
     },
     "metadata": {
      "needs_background": "light"
     },
     "output_type": "display_data"
    }
   ],
   "source": [
    "fig, ax = plt.subplots()\n",
    "ax.plot(time, audio)\n",
    "ax.set(xlabel=\"Tiempo\",ylabel=\"Amplitud\")\n",
    "plt.show()"
   ]
  },
  {
   "cell_type": "code",
   "execution_count": null,
   "id": "5100d316",
   "metadata": {},
   "outputs": [],
   "source": []
  }
 ],
 "metadata": {
  "kernelspec": {
   "display_name": "Python 3 (ipykernel)",
   "language": "python",
   "name": "python3"
  },
  "language_info": {
   "codemirror_mode": {
    "name": "ipython",
    "version": 3
   },
   "file_extension": ".py",
   "mimetype": "text/x-python",
   "name": "python",
   "nbconvert_exporter": "python",
   "pygments_lexer": "ipython3",
   "version": "3.8.10"
  }
 },
 "nbformat": 4,
 "nbformat_minor": 5
}
